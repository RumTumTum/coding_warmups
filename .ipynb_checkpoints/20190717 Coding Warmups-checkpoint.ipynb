{
 "cells": [
  {
   "cell_type": "markdown",
   "metadata": {},
   "source": [
    "Complete this assignment in that jupyter notebook and save to your computer.\n",
    "\n",
    "Create a dictionary where each object contains a list of one float (Age) and one string (Family name) (at least 5 objects) \n",
    "Example: {Charles: [23.4, \"Darwin\"], Alan: [42.5, \"Turing\"]}\n"
   ]
  },
  {
   "cell_type": "code",
   "execution_count": 11,
   "metadata": {},
   "outputs": [
    {
     "data": {
      "text/plain": [
       "{'Person 1': [20.1, 'Simpson'],\n",
       " 'Person 2': [20.2, 'Ali'],\n",
       " 'Person 3': [20.3, 'Omar'],\n",
       " 'Person 4': [20.4, 'Karim'],\n",
       " 'Person 5': [20.5, 'Jackson']}"
      ]
     },
     "execution_count": 11,
     "metadata": {},
     "output_type": "execute_result"
    }
   ],
   "source": [
    "Group = {\n",
    "    'Person 1': [20.1,\"Simpson\"],\n",
    "    'Person 2': [20.2,\"Ali\"],\n",
    "    'Person 3': [20.3,\"Omar\"],\n",
    "    'Person 4': [20.4,\"Karim\"],\n",
    "    'Person 5': [20.5,\"Jackson\"],\n",
    "}\n",
    "Group"
   ]
  },
  {
   "cell_type": "markdown",
   "metadata": {},
   "source": [
    "Delete one object from the dictionary"
   ]
  },
  {
   "cell_type": "code",
   "execution_count": 12,
   "metadata": {},
   "outputs": [],
   "source": [
    "del Group['Person 5']"
   ]
  },
  {
   "cell_type": "code",
   "execution_count": 13,
   "metadata": {},
   "outputs": [
    {
     "data": {
      "text/plain": [
       "{'Person 1': [20.1, 'Simpson'],\n",
       " 'Person 2': [20.2, 'Ali'],\n",
       " 'Person 3': [20.3, 'Omar'],\n",
       " 'Person 4': [20.4, 'Karim']}"
      ]
     },
     "execution_count": 13,
     "metadata": {},
     "output_type": "execute_result"
    }
   ],
   "source": [
    "Group"
   ]
  },
  {
   "cell_type": "markdown",
   "metadata": {},
   "source": [
    "\n",
    "Replace the float number of one of your objects - we are changing a list entry inside a dictionary record! look at Darwin's new age \n",
    "Example: {Charles: [99.73, \"Darwin\"], Alan: [42.5, \"Turing\"]}\n"
   ]
  },
  {
   "cell_type": "code",
   "execution_count": 16,
   "metadata": {},
   "outputs": [],
   "source": [
    "Group['Person 4'][0] = Group['Person 4'][0] + 10"
   ]
  },
  {
   "cell_type": "raw",
   "metadata": {},
   "source": []
  },
  {
   "cell_type": "code",
   "execution_count": 17,
   "metadata": {},
   "outputs": [
    {
     "data": {
      "text/plain": [
       "{'Person 1': [20.1, 'Simpson'],\n",
       " 'Person 2': [20.2, 'Ali'],\n",
       " 'Person 3': [20.3, 'Omar'],\n",
       " 'Person 4': [30.4, 'Karim']}"
      ]
     },
     "execution_count": 17,
     "metadata": {},
     "output_type": "execute_result"
    }
   ],
   "source": [
    "Group"
   ]
  },
  {
   "cell_type": "markdown",
   "metadata": {},
   "source": [
    "Write a for loop that goes through all records in the dictionary, and assigns the float numbers into one merged list (see ages) \n",
    "ages = [23.4, 22.9, 552.9]"
   ]
  },
  {
   "cell_type": "code",
   "execution_count": 30,
   "metadata": {},
   "outputs": [
    {
     "name": "stdout",
     "output_type": "stream",
     "text": [
      "20.1\n",
      "20.2\n",
      "20.3\n",
      "30.4\n"
     ]
    }
   ],
   "source": [
    "Ages = []\n",
    "for person in list(Group.values()):\n",
    "    Ages.append(person[0])\n",
    "    print (person[0])"
   ]
  },
  {
   "cell_type": "code",
   "execution_count": 31,
   "metadata": {},
   "outputs": [
    {
     "data": {
      "text/plain": [
       "[20.1, 20.2, 20.3, 30.4]"
      ]
     },
     "execution_count": 31,
     "metadata": {},
     "output_type": "execute_result"
    }
   ],
   "source": [
    "Ages"
   ]
  },
  {
   "cell_type": "markdown",
   "metadata": {},
   "source": [
    "\n",
    "BONUS\n",
    "Calculate with a for loop the median and mean of the ages list"
   ]
  },
  {
   "cell_type": "markdown",
   "metadata": {},
   "source": []
  }
 ],
 "metadata": {
  "kernelspec": {
   "display_name": "Python [conda env:learn-env] *",
   "language": "python",
   "name": "conda-env-learn-env-py"
  },
  "language_info": {
   "codemirror_mode": {
    "name": "ipython",
    "version": 3
   },
   "file_extension": ".py",
   "mimetype": "text/x-python",
   "name": "python",
   "nbconvert_exporter": "python",
   "pygments_lexer": "ipython3",
   "version": "3.6.6"
  }
 },
 "nbformat": 4,
 "nbformat_minor": 2
}
